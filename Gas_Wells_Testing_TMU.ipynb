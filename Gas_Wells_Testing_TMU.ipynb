{
  "nbformat": 4,
  "nbformat_minor": 0,
  "metadata": {
    "colab": {
      "private_outputs": true,
      "provenance": []
    },
    "kernelspec": {
      "name": "python3",
      "display_name": "Python 3"
    },
    "language_info": {
      "name": "python"
    }
  },
  "cells": [
    {
      "cell_type": "code",
      "execution_count": null,
      "metadata": {
        "id": "2M6NVaVNpyXk"
      },
      "outputs": [],
      "source": [
        "\n",
        "\n",
        "from PIL import Image\n",
        "import streamlit as st\n",
        "import numpy as np #1\n",
        "import pandas as pd #2\n",
        "import datetime\n",
        "File=\"Client_EPIS_Daily_Progress.xlsx\"\n",
        "im = Image.open(\"EPIS.png\")\n",
        "image = np.array(im)\n",
        "\n",
        "\n",
        "\n"
      ]
    }
  ]
}